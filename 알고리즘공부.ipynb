{
  "nbformat": 4,
  "nbformat_minor": 0,
  "metadata": {
    "colab": {
      "provenance": [],
      "authorship_tag": "ABX9TyPUl7ZYcKUrRg9+YFjmtK2Z",
      "include_colab_link": true
    },
    "kernelspec": {
      "name": "python3",
      "display_name": "Python 3"
    },
    "language_info": {
      "name": "python"
    }
  },
  "cells": [
    {
      "cell_type": "markdown",
      "metadata": {
        "id": "view-in-github",
        "colab_type": "text"
      },
      "source": [
        "<a href=\"https://colab.research.google.com/github/jm609/jm609/blob/main/%EC%95%8C%EA%B3%A0%EB%A6%AC%EC%A6%98%EA%B3%B5%EB%B6%80.ipynb\" target=\"_parent\"><img src=\"https://colab.research.google.com/assets/colab-badge.svg\" alt=\"Open In Colab\"/></a>"
      ]
    },
    {
      "cell_type": "code",
      "execution_count": 4,
      "metadata": {
        "colab": {
          "base_uri": "https://localhost:8080/"
        },
        "id": "LYkmKhoEOru8",
        "outputId": "0aebb370-ee1b-45a1-ac1e-b0b99259a720"
      },
      "outputs": [
        {
          "output_type": "stream",
          "name": "stdout",
          "text": [
            "3\n",
            "7\n",
            "20\n",
            "100\n",
            "7\n",
            "23\n",
            "101\n"
          ]
        }
      ],
      "source": [
        "def is_prime(n: int) -> int:\n",
        "    if n < 2:\n",
        "        return 0\n",
        "    for i in range(2, int(n**0.5)+1):\n",
        "        if n % i == 0:\n",
        "            return 0\n",
        "    return 1\n",
        "\n",
        "def next_prime(n: int) -> int:\n",
        "    while True:\n",
        "        if is_prime(n):\n",
        "            return n\n",
        "        n += 1\n",
        "\n",
        "n = int(input())\n",
        "lst = []\n",
        "lst2 = []\n",
        "for i in range(n):\n",
        "    lst.append(int(input()))\n",
        "\n",
        "for j in lst:\n",
        "    lst2.append(next_prime(j))\n",
        "\n",
        "for k in lst2:\n",
        "    print(k)\n",
        "\n",
        "\n"
      ]
    },
    {
      "cell_type": "code",
      "source": [
        "def is_prime(n):\n",
        "    if n < 2:\n",
        "        return 0\n",
        "    for i in range(2, int(n**0.5)+1):\n",
        "        if n % i == 0:\n",
        "            return 0\n",
        "    return 1\n",
        "\n",
        "def all_primes(m, n):\n",
        "    for i in range(m, n+1):\n",
        "        if is_prime(i):\n",
        "            lst.append(i)\n",
        "    return lst\n",
        "\n",
        "m, n = map(int, input().split())\n",
        "lst = []\n",
        "\n",
        "print(*all_primes(m, n), sep=\"\\n\")"
      ],
      "metadata": {
        "id": "BRhbjWCuaXaC"
      },
      "execution_count": null,
      "outputs": []
    },
    {
      "cell_type": "code",
      "source": [
        "n = int(input())\n",
        "nums = list(map(int, input().split()))\n",
        "\n",
        "dic = {}\n",
        "for num in nums:\n",
        "    if num in dic:\n",
        "        dic[num] += 1\n",
        "    else:\n",
        "        dic[num] = 1\n",
        "\n",
        "a = int(input())\n",
        "nums2 = list(map(int, input().split()))\n",
        "\n",
        "for i in nums2:\n",
        "    if i in dic:\n",
        "        print(dic[i], end=' ')\n",
        "    else:\n",
        "        print(0, end=' ')"
      ],
      "metadata": {
        "colab": {
          "base_uri": "https://localhost:8080/"
        },
        "id": "jWvsSI4IBbNd",
        "outputId": "6a49dedc-0be2-498b-d98a-40b3650accca"
      },
      "execution_count": null,
      "outputs": [
        {
          "output_type": "stream",
          "name": "stdout",
          "text": [
            "3\n"
          ]
        }
      ]
    }
  ]
}