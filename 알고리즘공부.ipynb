{
  "nbformat": 4,
  "nbformat_minor": 0,
  "metadata": {
    "colab": {
      "provenance": [],
      "authorship_tag": "ABX9TyO1sf3dS0C/37QLWKirv/Fd"
    },
    "kernelspec": {
      "name": "python3",
      "display_name": "Python 3"
    },
    "language_info": {
      "name": "python"
    }
  },
  "cells": [
    {
      "cell_type": "code",
      "execution_count": null,
      "metadata": {
        "id": "LYkmKhoEOru8"
      },
      "outputs": [],
      "source": [
        "def is_prime(n: int) -> int:\n",
        "    if n < 2:\n",
        "        return 0\n",
        "    for i in range(2, int(n**0.5)+1):\n",
        "        if n % i == 0:\n",
        "            return 0\n",
        "    return 1\n",
        "\n",
        "def next_prime(n: int) -> int:\n",
        "    while True:\n",
        "        if is_prime(n):\n",
        "            return n\n",
        "        n += 1\n",
        "\n",
        "n = int(input())\n",
        "lst = []\n",
        "lst2 = []\n",
        "for i in range(n):\n",
        "    lst.append(int(input()))\n",
        "\n",
        "for j in lst:\n",
        "    lst2.append(next_prime(j))\n",
        "\n",
        "for k in lst2:\n",
        "    print(k)"
      ]
    },
    {
      "cell_type": "code",
      "source": [
        "def is_prime(n):\n",
        "    if n < 2:\n",
        "        return 0\n",
        "    for i in range(2, int(n**0.5)+1):\n",
        "        if n % i == 0:\n",
        "            return 0\n",
        "    return 1\n",
        "\n",
        "def all_primes(m, n):\n",
        "    for i in range(m, n+1):\n",
        "        if is_prime(i):\n",
        "            lst.append(i)\n",
        "    return lst\n",
        "\n",
        "m, n = map(int, input().split())\n",
        "lst = []\n",
        "\n",
        "print(*all_primes(m, n), sep=\"\\n\")"
      ],
      "metadata": {
        "id": "BRhbjWCuaXaC"
      },
      "execution_count": null,
      "outputs": []
    },
    {
      "cell_type": "code",
      "source": [],
      "metadata": {
        "colab": {
          "base_uri": "https://localhost:8080/"
        },
        "id": "jWvsSI4IBbNd",
        "outputId": "6a49dedc-0be2-498b-d98a-40b3650accca"
      },
      "execution_count": null,
      "outputs": [
        {
          "output_type": "stream",
          "name": "stdout",
          "text": [
            "3\n"
          ]
        }
      ]
    }
  ]
}